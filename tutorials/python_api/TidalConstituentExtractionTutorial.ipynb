{
 "cells": [
  {
   "cell_type": "markdown",
   "metadata": {},
   "source": [
    "# Tidal Consituent Extraction Tutorial\n",
    "## Introduction\n",
    "\n",
    "This tutorial demonstrates the use of the `hamonica` Python library to extract tidal constituent data. `harmonica` can provide the amplitude, phase, and speed of specified constituents at specified point locations. Various nodal factors of a constituent can also be obtained at a specifed time. The resolution of the datasets and the supported constituents vary depending on the tidal model used. `harmonica` currently supports the TPXO (v7-9), ADCIRC (v2015), LeProvost, and FES2014 tidal models. Resources for TPXO, ADCIRC, and LeProvost are automatically retrieved if not found (requires Internet connection). Due to licensing restrictions, the FES2014 data files must already exist locally."
   ]
  },
  {
   "attachments": {},
   "cell_type": "markdown",
   "metadata": {},
   "source": [
    "## Example - Simple Points\n",
    "\n",
    "The following example extracts tidal components of two constituents at two ocean locations. Extracting nodal factors of the constituents at a specified time is also shown."
   ]
  },
  {
   "cell_type": "markdown",
   "metadata": {},
   "source": [
    "To begin, import the necessary modules."
   ]
  },
  {
   "cell_type": "code",
   "execution_count": 1,
   "metadata": {},
   "outputs": [],
   "source": [
    "import datetime\n",
    "from harmonica.tidal_constituents import Constituents"
   ]
  },
  {
   "cell_type": "markdown",
   "metadata": {},
   "source": [
    "Create a list of the constituents of interest. See the classes in `resource.py` for a listing of the models' supported constituents and their expected codes. Universally compatiable constituents are used here."
   ]
  },
  {
   "cell_type": "code",
   "execution_count": 2,
   "metadata": {},
   "outputs": [],
   "source": [
    "constituents = ['M2', 'S2']"
   ]
  },
  {
   "cell_type": "markdown",
   "metadata": {},
   "source": [
    "Next, construct the tidal constituent extractor object. The TPXO8 model is specified at construction here. This argument is optional and defaults to the TPXO9 model."
   ]
  },
  {
   "cell_type": "code",
   "execution_count": 3,
   "metadata": {},
   "outputs": [],
   "source": [
    "extractor = Constituents(model='tpxo8')"
   ]
  },
  {
   "cell_type": "markdown",
   "metadata": {},
   "source": [
    "The next section of code demonstrates using the interface to get amplitudes, frequencies, speeds, earth tidal reduction factors, equilibrium arguments, and nodal factors for specified constituents at a specified time. The astronomical equations used to calculate these variables do not depend on the tidal model being used, so the values are always the same regardless of the extractor's current tidal model."
   ]
  },
  {
   "cell_type": "code",
   "execution_count": 4,
   "metadata": {},
   "outputs": [
    {
     "name": "stdout",
     "output_type": "stream",
     "text": [
      "    amplitude  frequency      speed  earth_tide_reduction_factor  equilibrium_argument  nodal_factor\n",
      "M2   0.242334   0.000141  28.984104                        0.693            345.201515      1.087974\n",
      "S2   0.112841   0.000145  30.000000                        0.693             90.000000      1.000000\n"
     ]
    }
   ],
   "source": [
    "# Get astronomical nodal factor data (not dependent on the tidal model)\n",
    "nodal_factors = extractor.get_nodal_factor(names=constituents, timestamp=datetime.datetime(2018, 8, 30, 15))\n",
    "print(nodal_factors.to_string())\n",
    "\n",
    "# Expected output:\n",
    "#      amplitude  frequency      speed  earth_tide_reduction_factor  equilibrium_argument  nodal_factor\n",
    "#  M2   0.242334   0.000141  28.984104                        0.693            345.201515      1.087974\n",
    "#  S2   0.112841   0.000145  30.000000                        0.693             90.000000      1.000000"
   ]
  },
  {
   "cell_type": "markdown",
   "metadata": {},
   "source": [
    "No external resources have been required up to this point. The remainder of the tutorial uses the various tidal models to extract consituent data at point locations. If the required resources do not exist locally at this time, `harmonica` will attempt to download the files from the Internet (with the exception of the FES2014 model). `__init__.py` contains a `config` dict with the default resource locations. Set the `pre_existing_data_dir` variable to change the directory `harmonica` searches for existing resources. Set the `data_dir` variable to change the directory `harmonica` saves downloaded resources. Resource files are expected to be in subfolders with the name of the model. If a required resource exists in either directory, it will not be downloaded."
   ]
  },
  {
   "cell_type": "markdown",
   "metadata": {},
   "source": [
    "Create a list of point locations where tidal harmonic components will be extracted. The first location is in the Northwest Atlantic Ocean, and the second point is in the Northeast Pacific Ocean. Locations should be specified as tuples of latitude and longitude degrees. Latitude coordinates should be in the \\[-90.0, 90.0\\] range. Longitude coordinates should in either the \\[0.0, 360.0\\] or \\[-180.0, 180.0\\] range."
   ]
  },
  {
   "cell_type": "code",
   "execution_count": 5,
   "metadata": {},
   "outputs": [],
   "source": [
    "# Need to be in (lat, lon), not (x, y)\n",
    "locations = [\n",
    "    (39.74, 285.93),   # (39.74, -74.07),\n",
    "    (46.18, -124.38),  # (46.18, 235.62),\n",
    "]"
   ]
  },
  {
   "cell_type": "markdown",
   "metadata": {},
   "source": [
    "The next lines of code extract constituent amplitude, phase, and speed using the TPXO8 model specified at construction. A `Pandas.DataFrame` is returned for each of the requested locations. Speeds of phase change published by NOAA (https://tidesandcurrents.noaa.gov) are provided for convenience but are spatially constant. To ease comparison with other model results in this tutorial, the `positive_ph` argument has been set to `True`. This ensures all ouput phases are positive."
   ]
  },
  {
   "cell_type": "code",
   "execution_count": 6,
   "metadata": {},
   "outputs": [
    {
     "name": "stdout",
     "output_type": "stream",
     "text": [
      "(39.74, 285.93)\n",
      "    amplitude       phase      speed\n",
      "M2   0.560701  352.265551  28.984104\n",
      "S2   0.106576   18.615143  30.000000\n",
      "\n",
      "(46.18, -124.38)\n",
      "    amplitude       phase      speed\n",
      "M2   0.910663  234.117743  28.984104\n",
      "S2   0.253107  260.181916  30.000000\n",
      "\n"
     ]
    }
   ],
   "source": [
    "tpxo_comps = extractor.get_components(locations, constituents, positive_ph=True)\n",
    "for loc, comps in zip(locations, tpxo_comps.data):\n",
    "    print(loc)\n",
    "    print(comps.sort_index().to_string() + '\\n')\n",
    "\n",
    "# Expected output:\n",
    "# (39.74, 285.93)\n",
    "#     amplitude       phase      speed\n",
    "# M2   0.560701  352.265551  28.984104\n",
    "# S2   0.106576   18.615143  30.000000\n",
    "# \n",
    "# (46.18, -124.38)\n",
    "#     amplitude       phase      speed\n",
    "# M2   0.910663  234.117743  28.984104\n",
    "# S2   0.253107  260.181916  30.000000"
   ]
  },
  {
   "cell_type": "markdown",
   "metadata": {},
   "source": [
    "The tidal model can be switched with every call to `get_components` by specifying the `model` argument. Switch to the ADCIRC v2015 model and compare the results."
   ]
  },
  {
   "cell_type": "code",
   "execution_count": 7,
   "metadata": {
    "scrolled": true
   },
   "outputs": [
    {
     "name": "stdout",
     "output_type": "stream",
     "text": [
      "(39.74, -74.07)\n",
      "    amplitude       phase      speed\n",
      "M2   0.554417  352.729485  28.984104\n",
      "S2   0.106317   16.530658  30.000000\n",
      "\n",
      "(46.18, -124.38)\n",
      "    amplitude       phase      speed\n",
      "M2   0.944207  230.498719  28.984104\n",
      "S2   0.264533  256.892259  30.000000\n",
      "\n"
     ]
    }
   ],
   "source": [
    "adcirc_comps = extractor.get_components(locations, constituents, model='adcirc2015')\n",
    "for loc, comps in zip(locations, adcirc_comps.data):\n",
    "    print(loc)\n",
    "    print(comps.sort_index().to_string() + '\\n')\n",
    "\n",
    "# Expected output:\n",
    "# (39.74, -74.07)\n",
    "#     amplitude       phase      speed\n",
    "# M2   0.554417  352.729485  28.984104\n",
    "# S2   0.106317   16.530658  30.000000\n",
    "# \n",
    "# (46.18, -124.38)\n",
    "#     amplitude       phase      speed\n",
    "# M2   0.944207  230.498719  28.984104\n",
    "# S2   0.264533  256.892259  30.000000"
   ]
  },
  {
   "cell_type": "markdown",
   "metadata": {},
   "source": [
    "Repeat the extraction using the LeProvost model."
   ]
  },
  {
   "cell_type": "code",
   "execution_count": 8,
   "metadata": {},
   "outputs": [
    {
     "name": "stdout",
     "output_type": "stream",
     "text": [
      "(39.74, -74.07)\n",
      "    amplitude       phase      speed\n",
      "M2   0.589858  353.748502  28.984104\n",
      "S2   0.083580   20.950538  30.000000\n",
      "\n",
      "(46.18, -124.38)\n",
      "    amplitude       phase      speed\n",
      "M2   0.858488  232.029922  28.984104\n",
      "S2   0.242000  258.787649  30.000000\n",
      "\n"
     ]
    }
   ],
   "source": [
    "leprovost_comps = extractor.get_components(locations, constituents, model='leprovost')\n",
    "for loc, comps in zip(locations, leprovost_comps.data):\n",
    "    print(loc)\n",
    "    print(comps.sort_index().to_string() + '\\n')\n",
    "\n",
    "# Expected output:\n",
    "# (39.74, -74.07)\n",
    "#     amplitude       phase      speed\n",
    "# M2   0.589858  353.748502  28.984104\n",
    "# S2   0.083580   20.950538  30.000000\n",
    "# \n",
    "# (46.18, -124.38)\n",
    "#     amplitude       phase      speed\n",
    "# M2   0.858488  232.029922  28.984104\n",
    "# S2   0.242000  258.787649  30.000000"
   ]
  },
  {
   "cell_type": "markdown",
   "metadata": {},
   "source": [
    "To use the FES2014 model, either change the `__init__.config` variables or copy the data files to one of the appropriate locations. Files should be in a `fes2014` subfolder of the referenced directory. See the class `FES2014Resources` in `resource.py` for a listing of expected filenames. Only the height NetCDF datasets are required."
   ]
  },
  {
   "cell_type": "code",
   "execution_count": 9,
   "metadata": {},
   "outputs": [
    {
     "name": "stdout",
     "output_type": "stream",
     "text": [
      "(39.74, 285.93)\n",
      "    amplitude       phase      speed\n",
      "M2   0.574708  354.674980  28.984104\n",
      "S2   0.111234   15.286627  30.000000\n",
      "\n",
      "(46.18, 235.62)\n",
      "    amplitude       phase      speed\n",
      "M2   0.903397  229.333500  28.984104\n",
      "S2   0.249951  255.765785  30.000000\n",
      "\n"
     ]
    }
   ],
   "source": [
    "fes2014_comps = extractor.get_components(locations, constituents, model='fes2014')\n",
    "for loc, comps in zip(locations, fes2014_comps.data):\n",
    "    print(loc)\n",
    "    print(comps.sort_index().to_string() + '\\n')\n",
    "\n",
    "# Expected output:\n",
    "# (39.74, 285.93)\n",
    "#     amplitude       phase      speed\n",
    "# M2   0.574708  354.674980  28.984104\n",
    "# S2   0.111234   15.286627  30.000000\n",
    "# \n",
    "# (46.18, 235.62)\n",
    "#     amplitude       phase      speed\n",
    "# M2   0.903397  229.333500  28.984104\n",
    "# S2   0.249951  255.765785  30.000000"
   ]
  },
  {
   "cell_type": "code",
   "execution_count": null,
   "metadata": {},
   "outputs": [],
   "source": []
  }
 ],
 "metadata": {
  "kernelspec": {
   "display_name": "Python 3",
   "language": "python",
   "name": "python3"
  },
  "language_info": {
   "codemirror_mode": {
    "name": "ipython",
    "version": 3
   },
   "file_extension": ".py",
   "mimetype": "text/x-python",
   "name": "python",
   "nbconvert_exporter": "python",
   "pygments_lexer": "ipython3",
   "version": "3.6.6"
  }
 },
 "nbformat": 4,
 "nbformat_minor": 2
}
