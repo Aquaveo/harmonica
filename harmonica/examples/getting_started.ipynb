{
 "cells": [
  {
   "cell_type": "code",
   "execution_count": null,
   "metadata": {},
   "outputs": [],
   "source": [
    "from datetime import datetime\n",
    "import numpy as np\n",
    "\n",
    "from pytides.tide import Tide as pyTide\n",
    "import harmonica\n",
    "from harmonica.harmonica import Tide"
   ]
  },
  {
   "cell_type": "markdown",
   "metadata": {},
   "source": [
    "# Tidal Reconstruction"
   ]
  },
  {
   "cell_type": "code",
   "execution_count": null,
   "metadata": {},
   "outputs": [],
   "source": [
    "Tide.reconstruct_tide?"
   ]
  },
  {
   "cell_type": "markdown",
   "metadata": {},
   "source": [
    "## Required Input"
   ]
  },
  {
   "cell_type": "code",
   "execution_count": null,
   "metadata": {},
   "outputs": [],
   "source": [
    "# location of interest\n",
    "location = (38.375789, -74.943915)\n",
    "# datetime object of time zero\n",
    "time_zero = datetime.now()\n",
    "# array of hour offsets from time zero (MUST BE IN HOURS)\n",
    "hours_offset_from_zero = np.arange(0, 1000, 1, dtype=float)"
   ]
  },
  {
   "cell_type": "markdown",
   "metadata": {},
   "source": [
    "## Optional Input"
   ]
  },
  {
   "cell_type": "code",
   "execution_count": null,
   "metadata": {},
   "outputs": [],
   "source": [
    "# set the model name\n",
    "model_name = 'tpxo9'\n",
    "# requested constituent(s) \n",
    "constituents = None\n",
    "# should phase be all positive [0 360]?\n",
    "positive_phase = True\n",
    "# output file\n",
    "outfile = None"
   ]
  },
  {
   "cell_type": "markdown",
   "metadata": {},
   "source": [
    "---"
   ]
  },
  {
   "cell_type": "markdown",
   "metadata": {},
   "source": [
    "#### Process input data"
   ]
  },
  {
   "cell_type": "code",
   "execution_count": null,
   "metadata": {},
   "outputs": [],
   "source": [
    "# convert the numpy array of offset time to datetime objects\n",
    "times = pyTide._times(time_zero, hours_offset_from_zero)"
   ]
  },
  {
   "cell_type": "markdown",
   "metadata": {},
   "source": [
    "#### Reconstruct tides"
   ]
  },
  {
   "cell_type": "code",
   "execution_count": null,
   "metadata": {},
   "outputs": [],
   "source": [
    "# reconstruct the tide\n",
    "tide = Tide().reconstruct_tide(loc=location, times=times, model=model_name, cons=constituents, \n",
    "                               positive_ph=positive_phase)"
   ]
  },
  {
   "cell_type": "markdown",
   "metadata": {},
   "source": [
    "#### View/Save output"
   ]
  },
  {
   "cell_type": "code",
   "execution_count": null,
   "metadata": {},
   "outputs": [],
   "source": [
    "# if output file requested\n",
    "if outfile is not None:\n",
    "    # write to file\n",
    "    tide.data.to_csv(outfile, sep='\\t', header=True, index=False)\n",
    "    \n",
    "# display the dataframe\n",
    "display(tide.data)"
   ]
  },
  {
   "cell_type": "markdown",
   "metadata": {},
   "source": [
    "---\n",
    "---"
   ]
  },
  {
   "cell_type": "markdown",
   "metadata": {},
   "source": [
    "# Tidal Deconstruction"
   ]
  },
  {
   "cell_type": "code",
   "execution_count": null,
   "metadata": {},
   "outputs": [],
   "source": [
    "Tide.deconstruct_tide?"
   ]
  },
  {
   "cell_type": "markdown",
   "metadata": {},
   "source": [
    "## Required Input"
   ]
  },
  {
   "cell_type": "code",
   "execution_count": null,
   "metadata": {},
   "outputs": [],
   "source": [
    "# datetime object of time zero\n",
    "time_zero = datetime.now()\n",
    "# array of hour offsets from time zero (MUST BE IN HOURS)\n",
    "hours_offset_from_zero = np.arange(0, 1000, 1, dtype=float)\n",
    "# array of water levels\n",
    "water_level = np.cos(hours_offset_from_zero)"
   ]
  },
  {
   "cell_type": "markdown",
   "metadata": {},
   "source": [
    "## Optional Input"
   ]
  },
  {
   "cell_type": "code",
   "execution_count": null,
   "metadata": {},
   "outputs": [],
   "source": [
    "# list of requested constituents\n",
    "requested_cons = ['M2', 'S2','N2','K1','M4','O1']\n",
    "# number of required periods for inclusion of consituents\n",
    "periods = 4\n",
    "# should phase be all positive [0 360]?\n",
    "positive_ph = False\n",
    "# output file\n",
    "decomp_out = None"
   ]
  },
  {
   "cell_type": "markdown",
   "metadata": {},
   "source": [
    "#### Process input data"
   ]
  },
  {
   "cell_type": "code",
   "execution_count": null,
   "metadata": {},
   "outputs": [],
   "source": [
    "# convert the numpy array of offset time to datetime objects\n",
    "times = pyTide._times(time_zero, hours_offset_from_zero)"
   ]
  },
  {
   "cell_type": "markdown",
   "metadata": {},
   "source": [
    "#### Deconstruct tides"
   ]
  },
  {
   "cell_type": "code",
   "execution_count": null,
   "metadata": {},
   "outputs": [],
   "source": [
    "constituents = Tide().deconstruct_tide(water_level, times, cons=requested_cons, n_period=periods, positive_ph=positive_ph)"
   ]
  },
  {
   "cell_type": "code",
   "execution_count": null,
   "metadata": {},
   "outputs": [],
   "source": [
    "constituents.constituents.data"
   ]
  },
  {
   "cell_type": "code",
   "execution_count": null,
   "metadata": {},
   "outputs": [],
   "source": [
    "# if output file requested\n",
    "if decomp_out is not None:\n",
    "    # write to file\n",
    "    constituents.constituents.data.to_csv(decomp_out, sep='\\t', header=True, index=False)\n",
    "    \n",
    "# display the dataframe\n",
    "display(constituents.constituents.data)"
   ]
  }
 ],
 "metadata": {
  "kernelspec": {
   "display_name": "Python 3",
   "language": "python",
   "name": "python3"
  },
  "language_info": {
   "codemirror_mode": {
    "name": "ipython",
    "version": 3
   },
   "file_extension": ".py",
   "mimetype": "text/x-python",
   "name": "python",
   "nbconvert_exporter": "python",
   "pygments_lexer": "ipython3",
   "version": "3.6.6"
  }
 },
 "nbformat": 4,
 "nbformat_minor": 2
}
